{
 "cells": [
  {
   "cell_type": "code",
   "execution_count": 22,
   "metadata": {
    "scrolled": false
   },
   "outputs": [],
   "source": [
    "from bokeh.colors import RGB\n",
    "from bokeh.plotting import figure, output_file, show\n",
    "from bokeh.models import HoverTool, ColumnDataSource\n",
    "from IPython import display\n",
    "import pandas as pd\n",
    "from openpyxl.workbook import Workbook\n",
    "import time\n",
    "from datetime import datetime\n",
    "\n",
    "api_key = \"https://www.alphavantage.co/query?function=DIGITAL_CURRENCY_DAILY&symbol=BTC&market=CNY&apikey=RDZ3Q4TD6ELVMRJJ&datatype=csv\"\n",
    "btc_df=pd.read_csv(api_key,parse_dates=[\"timestamp\"])\n",
    "### to change symbol, see digital_currency_list.csv\n",
    "### to change comparing market, see physical_currency_list.csv\n",
    "\n",
    "\n",
    "#btc_daily_high = btc_df[[\"timestamp\", \"close (USD)\"]]\n",
    "\n",
    "pd.options.display.float_format = '{:.1f}'.format\n",
    "\n",
    "#print(btc_df)\n",
    "#show(p)\n",
    "# writer = pd.ExcelWriter('output.xlsx')\n",
    "# btc_df.to_excel(writer,'Sheet1')\n",
    "# writer.save()"
   ]
  },
  {
   "cell_type": "code",
   "execution_count": 23,
   "metadata": {},
   "outputs": [],
   "source": [
    "def preprocess_features(btc_df):\n",
    "  \n",
    "  selected_features = btc_df[[\n",
    "      \"open (USD)\",\n",
    "      \"high (USD)\",\n",
    "      \"low (USD)\",  \n",
    "      \"volume\"]]\n",
    "  \n",
    "  processed_features = selected_features.copy()\n",
    "  processed_features[\"open_close_diff\"] =  btc_df[\"close (USD)\"] - btc_df[\"open (USD)\"]\n",
    "  \n",
    "  return processed_features\n",
    "\n",
    "def preprocess_targets(btc_df):\n",
    "  \n",
    "  output_targets = btc_df[[\"close (USD)\"]]\n",
    "  return output_targets"
   ]
  },
  {
   "cell_type": "code",
   "execution_count": 24,
   "metadata": {},
   "outputs": [],
   "source": [
    "# training_examples = preprocess_features(btc_df_r.head(1100))\n",
    "# training_targets = preprocess_targets(btc_df_r.head(1100))\n",
    "# validation_examples = preprocess_features(btc_df_r.tail(560))\n",
    "# validation_targets = preprocess_targets(btc_df_r.tail(560))\n",
    "all_examples = preprocess_features(btc_df)\n",
    "\n",
    "btc_df_c = btc_df.copy()\n",
    "btc_df_c[\"open_close_diff\"] = all_examples[\"open_close_diff\"]"
   ]
  },
  {
   "cell_type": "code",
   "execution_count": 42,
   "metadata": {},
   "outputs": [],
   "source": [
    "btc_df_c[\"date_string\"] = btc_df_c[\"timestamp\"].dt.strftime(\"%Y-%m-%d\")\n",
    "btc_df_c[\"oc_diff_string\"] = btc_df_c[\"open_close_diff\"]\n",
    "btc_df_c[\"close_string\"] = btc_df_c[\"close (USD)\"]\n",
    "#print(btc_df_c[\"date_string\"])\n",
    "\n",
    "cds=ColumnDataSource(btc_df_c)\n",
    "\n",
    "#print(cds)\n",
    "\n",
    "#df1 = pd.DataFrame(btc_df_c[\"timestamp\"])\n",
    "#print(df1)\n",
    "\n",
    "p = figure(width=1000, height=900, x_axis_type=\"datetime\", logo=None, background_fill_color=RGB(15, 15, 8))\n",
    "\n",
    "p.title.text = \"BTC 2014-Present\"\n",
    "p.title.text_color = \"Orange\"\n",
    "p.title.text_font = \"times\"\n",
    "p.title.text_font_style = \"italic\"\n",
    "p.title.text_font_size = \"20pt\"\n",
    "\n",
    "p.xaxis.axis_label = \"Date\"\n",
    "p.yaxis.axis_label = \"USD\"\n",
    "#p.xgrid.grid_line_color = \"#dddddd\"\n",
    "\n",
    "\n",
    "p.line(\"timestamp\",\"open_close_diff\", legend=\"Open to Close Diff\", color=\"red\",source=cds)\n",
    "p.line(\"timestamp\",\"close (USD)\", legend=\"Close Price\", color=RGB(114, 232, 51),source=cds)\n",
    "\n",
    "p.legend.label_text_font = \"times\"\n",
    "p.legend.label_text_font_style = \"italic\"\n",
    "p.legend.label_text_color = \"navy\"\n",
    "p.legend.location = \"top_left\"\n",
    "p.legend.background_fill_color = \"darkgray\"\n",
    "\n",
    "hover=HoverTool(tooltips=[(\"Date\",\"@date_string\"), (\"Open to Close Diff\",\"@oc_diff_string{0}\"), (\"Close\",\"@close_string{0}\")])\n",
    "p.add_tools(hover)\n",
    "\n",
    "\n",
    "output_file(\"BTC.html\")\n",
    "\n",
    "show(p)"
   ]
  },
  {
   "cell_type": "code",
   "execution_count": 26,
   "metadata": {},
   "outputs": [
    {
     "data": {
      "text/plain": [
       "count    1661.0\n",
       "mean        3.8\n",
       "std       333.8\n",
       "min     -5387.4\n",
       "25%        -7.5\n",
       "50%         0.8\n",
       "75%        12.6\n",
       "max      4497.9\n",
       "Name: open_close_diff, dtype: float64"
      ]
     },
     "execution_count": 26,
     "metadata": {},
     "output_type": "execute_result"
    }
   ],
   "source": [
    "btc_df_c[\"open_close_diff\"].describe()"
   ]
  },
  {
   "cell_type": "code",
   "execution_count": 27,
   "metadata": {},
   "outputs": [
    {
     "data": {
      "text/plain": [
       "count    1661.0\n",
       "mean     2605.7\n",
       "std      3717.2\n",
       "min       173.6\n",
       "25%       381.2\n",
       "50%       613.8\n",
       "75%      3796.0\n",
       "max     21794.6\n",
       "Name: close (USD), dtype: float64"
      ]
     },
     "execution_count": 27,
     "metadata": {},
     "output_type": "execute_result"
    }
   ],
   "source": [
    "btc_df_c[\"close (USD)\"].describe()"
   ]
  },
  {
   "cell_type": "code",
   "execution_count": null,
   "metadata": {},
   "outputs": [],
   "source": []
  },
  {
   "cell_type": "code",
   "execution_count": null,
   "metadata": {},
   "outputs": [],
   "source": []
  }
 ],
 "metadata": {
  "kernelspec": {
   "display_name": "Python 3",
   "language": "python",
   "name": "python3"
  },
  "language_info": {
   "codemirror_mode": {
    "name": "ipython",
    "version": 3
   },
   "file_extension": ".py",
   "mimetype": "text/x-python",
   "name": "python",
   "nbconvert_exporter": "python",
   "pygments_lexer": "ipython3",
   "version": "3.6.0"
  }
 },
 "nbformat": 4,
 "nbformat_minor": 2
}
