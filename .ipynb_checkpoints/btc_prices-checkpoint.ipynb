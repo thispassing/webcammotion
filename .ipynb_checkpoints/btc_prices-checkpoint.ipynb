{
 "cells": [
  {
   "cell_type": "code",
   "execution_count": 1,
   "metadata": {},
   "outputs": [],
   "source": [
    "from bokeh.colors import RGB\n",
    "from bokeh.plotting import figure, output_file, show\n",
    "from IPython import display\n",
    "import pandas as pd\n",
    "from openpyxl.workbook import Workbook\n",
    "\n",
    "api_key = \"https://www.alphavantage.co/query?function=DIGITAL_CURRENCY_DAILY&symbol=BTC&market=CNY&apikey=RDZ3Q4TD6ELVMRJJ&datatype=csv\"\n",
    "btc_df=pd.read_csv(api_key,parse_dates=[\"timestamp\"])\n",
    "x = btc_df[\"timestamp\"]\n",
    "y = btc_df[\"close (USD)\"]\n",
    "btc_daily_high = btc_df[[\"timestamp\", \"close (USD)\"]]\n",
    "\n",
    "pd.options.display.float_format = '{:.1f}'.format\n",
    "\n",
    "p = figure(x_axis_type=\"datetime\", logo=None)\n",
    "\n",
    "p.title.text = \"BTC Since 2014\"\n",
    "p.title.text_color = \"Orange\"\n",
    "p.title.text_font = \"times\"\n",
    "p.title.text_font_style = \"italic\"\n",
    "\n",
    "\n",
    "p.xaxis.axis_label = \"Date\"\n",
    "p.yaxis.axis_label = \"BTC Close (USD)\"\n",
    "\n",
    "p.line(x, y, color=\"red\")\n",
    "\n",
    "output_file(\"BTC_Close.html\")\n",
    "\n",
    "#print(btc_df)\n",
    "#show(p)\n",
    "writer = pd.ExcelWriter('output.xlsx')\n",
    "btc_df.to_excel(writer,'Sheet1')\n",
    "writer.save()\n",
    "\n"
   ]
  },
  {
   "cell_type": "code",
   "execution_count": null,
   "metadata": {},
   "outputs": [],
   "source": []
  }
 ],
 "metadata": {
  "kernelspec": {
   "display_name": "Python 3",
   "language": "python",
   "name": "python3"
  },
  "language_info": {
   "codemirror_mode": {
    "name": "ipython",
    "version": 3
   },
   "file_extension": ".py",
   "mimetype": "text/x-python",
   "name": "python",
   "nbconvert_exporter": "python",
   "pygments_lexer": "ipython3",
   "version": "3.6.0"
  }
 },
 "nbformat": 4,
 "nbformat_minor": 2
}
