{
 "cells": [
  {
   "cell_type": "code",
   "execution_count": 8,
   "metadata": {},
   "outputs": [],
   "source": [
    "#making a basic Bokeh line graph\n",
    "\n",
    "#importing Bokeh\n",
    "from bokeh.colors import RGB\n",
    "from bokeh.plotting import figure\n",
    "from bokeh.io import output_file, show\n",
    "import pandas as pd\n",
    "\n",
    "#prepare some data\n",
    "df=pd.read_csv(\"bachelors.csv\")\n",
    "x=df[\"Year\"]\n",
    "y=df[\"Engineering\"]\n",
    "\n",
    "#prepare the output file\n",
    "output_file(\"ok.html\")\n",
    "\n",
    "#new\n",
    "p=figure(plot_width=500,plot_height=400,logo=None)\n",
    "\n",
    "p.title.text=\"Okay\"\n",
    "p.title.text_color=RGB(0, 255, 255)\n",
    "p.title.text_font=\"times\"\n",
    "p.title.text_font_size=\"16pt\"\n",
    "#p.title.text_font_style=\"bold\"\n",
    "p.xaxis.minor_tick_line_color=RGB(0, 102, 255)\n",
    "p.yaxis.minor_tick_line_color=RGB(0, 102, 255)\n",
    "p.xaxis.axis_label=\"Year\"\n",
    "p.yaxis.axis_label=\"Engineering\"    \n",
    "\n",
    "#create line plto\n",
    "p.line(x,y,color=RGB(0, 102, 255))\n",
    "\n",
    "#show graph\n",
    "show(p)"
   ]
  },
  {
   "cell_type": "code",
   "execution_count": null,
   "metadata": {},
   "outputs": [],
   "source": []
  }
 ],
 "metadata": {
  "kernelspec": {
   "display_name": "Python 3",
   "language": "python",
   "name": "python3"
  },
  "language_info": {
   "codemirror_mode": {
    "name": "ipython",
    "version": 3
   },
   "file_extension": ".py",
   "mimetype": "text/x-python",
   "name": "python",
   "nbconvert_exporter": "python",
   "pygments_lexer": "ipython3",
   "version": "3.6.0"
  }
 },
 "nbformat": 4,
 "nbformat_minor": 2
}
