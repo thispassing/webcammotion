{
 "cells": [
  {
   "cell_type": "code",
   "execution_count": 15,
   "metadata": {},
   "outputs": [],
   "source": [
    "#making a basic Bokeh line graph\n",
    "\n",
    "#importing Bokeh\n",
    "from bokeh.plotting import figure\n",
    "from bokeh.io import output_file, show\n",
    "\n",
    "#prepare some data\n",
    "x=[1,2,3,4,5]\n",
    "y=[6,7,8,9,10]\n",
    "\n",
    "#prepare the output file\n",
    "output_file(\"Line2.html\")\n",
    "\n",
    "#create a figure object\n",
    "f = figure(title=\"Here it is\")\n",
    "\n",
    "#create line plto\n",
    "f.circle(x,y)\n",
    "\n",
    "#show graph\n",
    "show(f)"
   ]
  },
  {
   "cell_type": "code",
   "execution_count": 17,
   "metadata": {},
   "outputs": [],
   "source": [
    "a = [3,7.5,10]\n",
    "b = [3,6,9]\n",
    "\n",
    "output_file(\"test.html\")\n",
    "c = figure()\n",
    "c.triangle(a,b)\n",
    "show(c)"
   ]
  },
  {
   "cell_type": "code",
   "execution_count": 26,
   "metadata": {},
   "outputs": [],
   "source": [
    "#making a basic Bokeh line graph\n",
    "\n",
    "#importing Bokeh\n",
    "from bokeh.plotting import figure\n",
    "from bokeh.io import output_file, show\n",
    "import pandas as pd\n",
    "\n",
    "#prepare some data\n",
    "df=pd.read_csv(\"data.csv\")\n",
    "x=df[\"first\"]\n",
    "y=df[\"second\"]\n",
    "\n",
    "#prepare the output file\n",
    "output_file(\"line_from_csv.html\")\n",
    "\n",
    "#create a figure object\n",
    "f = figure(title=\"CSV\")\n",
    "\n",
    "#create line plto\n",
    "f.line(x,y)\n",
    "\n",
    "#show graph\n",
    "show(f)"
   ]
  },
  {
   "cell_type": "code",
   "execution_count": 28,
   "metadata": {},
   "outputs": [],
   "source": [
    "#making a basic Bokeh line graph\n",
    "\n",
    "#importing Bokeh\n",
    "from bokeh.plotting import figure\n",
    "from bokeh.io import output_file, show\n",
    "import pandas as pd\n",
    "\n",
    "#prepare some data\n",
    "df=pd.read_csv(\"bachelors.csv\")\n",
    "x=df[\"Year\"]\n",
    "y=df[\"Engineering\"]\n",
    "\n",
    "#prepare the output file\n",
    "output_file(\"bachelors.html\")\n",
    "\n",
    "#create a figure object\n",
    "f = figure()\n",
    "\n",
    "#create line plto\n",
    "f.line(x,y)\n",
    "\n",
    "#show graph\n",
    "show(f)"
   ]
  },
  {
   "cell_type": "code",
   "execution_count": null,
   "metadata": {},
   "outputs": [],
   "source": []
  }
 ],
 "metadata": {
  "kernelspec": {
   "display_name": "Python 3",
   "language": "python",
   "name": "python3"
  },
  "language_info": {
   "codemirror_mode": {
    "name": "ipython",
    "version": 3
   },
   "file_extension": ".py",
   "mimetype": "text/x-python",
   "name": "python",
   "nbconvert_exporter": "python",
   "pygments_lexer": "ipython3",
   "version": "3.6.0"
  }
 },
 "nbformat": 4,
 "nbformat_minor": 2
}
